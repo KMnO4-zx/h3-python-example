{
 "cells": [
  {
   "cell_type": "markdown",
   "id": "f66f1e74",
   "metadata": {},
   "source": [
    "# API速度比较\n",
    "\n",
    "\n",
    "我们在各种API中对一个简单的玩具计算任务进行计时。\n",
    "\n",
    "\n",
    "我们还比较了在其中一种较快的API（使用H3索引的`int`表示法）中完成大部分计算，然后将结果转换为更熟悉的Python `str`对象格式的选项。"
   ]
  },
  {
   "cell_type": "code",
   "execution_count": 2,
   "id": "d11981cd",
   "metadata": {},
   "outputs": [],
   "source": [
    "import h3\n",
    "import h3.api.numpy_int\n",
    "\n",
    "# 定义一个函数，对给定的 H3 库进行一些计算\n",
    "def compute(h3_lib, N=100):\n",
    "    # 将经度 0，纬度 0 转化为一个 H3 索引，分辨率为9\n",
    "    h   = h3_lib.geo_to_h3(0, 0, 9)\n",
    "    # 生成一个包含中心索引和其 N 邻居索引的集合\n",
    "    out = h3_lib.k_ring(h, N)\n",
    "    # 将索引集合压缩为最小可能的集合\n",
    "    out = h3_lib.compact(out)\n",
    "    \n",
    "    # 返回压缩后的集合\n",
    "    return out\n",
    "\n",
    "# 定义一个函数，对给定的 H3 库进行一些计算，并将结果转化为字符串形式\n",
    "def compute_and_convert(h3_lib, N=100):\n",
    "    # 调用 compute 函数进行计算\n",
    "    out = compute(h3_lib, N)\n",
    "    # 将结果（一个 H3 索引集合）转化为字符串形式\n",
    "    out = [h3.h3_to_string(h) for h in out]\n",
    "    \n",
    "    # 返回字符串形式的结果\n",
    "    return out\n"
   ]
  },
  {
   "cell_type": "markdown",
   "id": "d5727f2e",
   "metadata": {},
   "source": [
    "# 使用每个API计算\n",
    "\n",
    "**基准测试注意事项**：`%%timeit sleep()`在执行剩余单元格中要计时的代码的每次**运行**前执行`sleep`；这有助于稳定计时结果（至少在我的笔记本电脑上是这样）。"
   ]
  },
  {
   "cell_type": "code",
   "execution_count": 3,
   "id": "f293a2cb",
   "metadata": {},
   "outputs": [],
   "source": [
    "import time\n",
    "\n",
    "def sleep():    \n",
    "    time.sleep(2)"
   ]
  },
  {
   "cell_type": "code",
   "execution_count": 5,
   "id": "1bd783ea",
   "metadata": {},
   "outputs": [
    {
     "name": "stdout",
     "output_type": "stream",
     "text": [
      "41.4 ms ± 906 µs per loop (mean ± std. dev. of 7 runs, 10 loops each)\n"
     ]
    }
   ],
   "source": [
    "%%timeit sleep()\n",
    "\n",
    "compute(h3.api.basic_str)"
   ]
  },
  {
   "cell_type": "code",
   "execution_count": 6,
   "id": "0673bf84",
   "metadata": {},
   "outputs": [
    {
     "name": "stdout",
     "output_type": "stream",
     "text": [
      "26.5 ms ± 1.22 ms per loop (mean ± std. dev. of 7 runs, 10 loops each)\n"
     ]
    }
   ],
   "source": [
    "%%timeit sleep()\n",
    "\n",
    "compute(h3.api.basic_int)"
   ]
  },
  {
   "cell_type": "code",
   "execution_count": 7,
   "id": "837aecce",
   "metadata": {},
   "outputs": [
    {
     "name": "stdout",
     "output_type": "stream",
     "text": [
      "5.54 ms ± 155 µs per loop (mean ± std. dev. of 7 runs, 100 loops each)\n"
     ]
    }
   ],
   "source": [
    "%%timeit sleep()\n",
    "\n",
    "compute(h3.api.memview_int)"
   ]
  },
  {
   "cell_type": "code",
   "execution_count": 8,
   "id": "7a475f03",
   "metadata": {},
   "outputs": [
    {
     "name": "stdout",
     "output_type": "stream",
     "text": [
      "5.25 ms ± 175 µs per loop (mean ± std. dev. of 7 runs, 100 loops each)\n"
     ]
    }
   ],
   "source": [
    "%%timeit sleep()\n",
    "\n",
    "compute(h3.api.numpy_int)"
   ]
  },
  {
   "cell_type": "markdown",
   "id": "50ebcde9",
   "metadata": {},
   "source": [
    "# 计算' int ' api并转换为' str '"
   ]
  },
  {
   "cell_type": "code",
   "execution_count": 9,
   "id": "f83ed93d",
   "metadata": {},
   "outputs": [
    {
     "name": "stdout",
     "output_type": "stream",
     "text": [
      "25.1 ms ± 280 µs per loop (mean ± std. dev. of 7 runs, 10 loops each)\n"
     ]
    }
   ],
   "source": [
    "%%timeit sleep()\n",
    "\n",
    "compute_and_convert(h3.api.basic_int)"
   ]
  },
  {
   "cell_type": "code",
   "execution_count": 10,
   "id": "9905bd3e",
   "metadata": {},
   "outputs": [
    {
     "name": "stdout",
     "output_type": "stream",
     "text": [
      "5.66 ms ± 88.1 µs per loop (mean ± std. dev. of 7 runs, 100 loops each)\n"
     ]
    }
   ],
   "source": [
    "%%timeit sleep()\n",
    "\n",
    "compute_and_convert(h3.api.memview_int)"
   ]
  },
  {
   "cell_type": "code",
   "execution_count": 11,
   "id": "78e01332",
   "metadata": {},
   "outputs": [
    {
     "name": "stdout",
     "output_type": "stream",
     "text": [
      "5.56 ms ± 77.9 µs per loop (mean ± std. dev. of 7 runs, 100 loops each)\n"
     ]
    }
   ],
   "source": [
    "%%timeit sleep()\n",
    "\n",
    "compute_and_convert(h3.api.numpy_int)"
   ]
  }
 ],
 "metadata": {
  "kernelspec": {
   "display_name": "Python 3",
   "language": "python",
   "name": "python3"
  },
  "language_info": {
   "codemirror_mode": {
    "name": "ipython",
    "version": 3
   },
   "file_extension": ".py",
   "mimetype": "text/x-python",
   "name": "python",
   "nbconvert_exporter": "python",
   "pygments_lexer": "ipython3",
   "version": "3.8.8"
  }
 },
 "nbformat": 4,
 "nbformat_minor": 5
}
